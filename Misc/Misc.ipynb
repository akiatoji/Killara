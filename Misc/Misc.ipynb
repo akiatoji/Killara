{
 "cells": [
  {
   "cell_type": "markdown",
   "metadata": {},
   "source": [
    "# Linear Programming Notes\n",
    "\n"
   ]
  },
  {
   "cell_type": "markdown",
   "metadata": {},
   "source": [
    "## Calculating $\\frac{1}{N} (\\sum_{i=0}^N X_{i})^2$\n",
    "\n",
    "I came across the shorter way and it didn't make sense at first.  Once I expanded the math, then it was like 'duh'. \n",
    "\n",
    "Frankly though, I don't see why you wouldn't just write it the longer way.  It's much clearer.  But some keep doing it the less clear way.  \n",
    "\n",
    "This is why I don't get along with math."
   ]
  },
  {
   "cell_type": "code",
   "execution_count": 13,
   "metadata": {},
   "outputs": [
    {
     "data": {
      "text/plain": [
       "array([-0.36690133, -1.50051899,  0.5958005 ,  0.41559751, -0.75950093,\n",
       "        0.75819848, -0.02340761, -0.24954894, -0.9455334 , -0.13229295])"
      ]
     },
     "execution_count": 13,
     "metadata": {},
     "output_type": "execute_result"
    }
   ],
   "source": [
    "import numpy as np\n",
    "\n",
    "N = 10\n",
    "X = np.random.randn(N)\n",
    "X"
   ]
  },
  {
   "cell_type": "markdown",
   "metadata": {},
   "source": [
    "## Longer way\n",
    "\n",
    "$\\frac{1}{N} (\\sum_{i=0}^N X_{i})^2$ = $\\frac{1}{N} (\\sum_{i=0}^N X_{i}) (\\sum_{i=0}^N X_{i}) $"
   ]
  },
  {
   "cell_type": "code",
   "execution_count": 14,
   "metadata": {},
   "outputs": [
    {
     "data": {
      "text/plain": [
       "0.48757393629417267"
      ]
     },
     "execution_count": 14,
     "metadata": {},
     "output_type": "execute_result"
    }
   ],
   "source": [
    "X.sum() * X.sum() / N"
   ]
  },
  {
   "cell_type": "markdown",
   "metadata": {},
   "source": [
    "## Shorter way\n",
    "\n",
    "$\\frac{1}{N} (\\sum_{i=0}^N X_{i})$ is the mean of X i.e. $\\mu{(X)}$.  \n",
    "\n",
    "So $\\frac{1}{N} (\\sum_{i=0}^N X_{i}) (\\sum_{i=0}^N X_{i}) $ is really $\\mu{(X)} \\sum_{i=0}^N X_{i} $"
   ]
  },
  {
   "cell_type": "code",
   "execution_count": 15,
   "metadata": {},
   "outputs": [
    {
     "data": {
      "text/plain": [
       "0.4875739362941726"
      ]
     },
     "execution_count": 15,
     "metadata": {},
     "output_type": "execute_result"
    }
   ],
   "source": [
    "X.mean() * X.sum()"
   ]
  },
  {
   "cell_type": "code",
   "execution_count": null,
   "metadata": {},
   "outputs": [],
   "source": []
  }
 ],
 "metadata": {
  "kernelspec": {
   "display_name": "py37-ml",
   "language": "python",
   "name": "py37-ml"
  },
  "language_info": {
   "codemirror_mode": {
    "name": "ipython",
    "version": 3
   },
   "file_extension": ".py",
   "mimetype": "text/x-python",
   "name": "python",
   "nbconvert_exporter": "python",
   "pygments_lexer": "ipython3",
   "version": "3.7.8"
  }
 },
 "nbformat": 4,
 "nbformat_minor": 4
}
